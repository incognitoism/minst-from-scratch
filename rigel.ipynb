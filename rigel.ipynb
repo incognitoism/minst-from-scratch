{
 "cells": [
  {
   "cell_type": "code",
   "execution_count": 42,
   "id": "050e5cee",
   "metadata": {},
   "outputs": [],
   "source": [
    "import numpy as np \n",
    "import pandas as pd \n",
    "from matplotlib import pyplot as plt\n",
    "from math import exp\n",
    "data = pd.read_csv('digit-recognizer/train.csv')"
   ]
  },
  {
   "cell_type": "code",
   "execution_count": 43,
   "id": "f3c4ced8",
   "metadata": {},
   "outputs": [],
   "source": [
    "data = np.array(data)\n",
    "m, n = data.shape\n",
    "np.random.shuffle(data)\n",
    "\n",
    "data_dev = data[0:1000].T\n",
    "Y_dev = data_dev[0]\n",
    "X_dev = data_dev[1:n]\n",
    "X_dev = X_dev / 255.\n",
    "\n",
    "data_train = data[1000:m].T\n",
    "Y_train = data_train[0]\n",
    "X_train = data_train[1:n]\n",
    "X_train = X_train / 255.\n",
    "_,m_train = X_train.shape"
   ]
  },
  {
   "cell_type": "code",
   "execution_count": 44,
   "id": "3a8661ea",
   "metadata": {},
   "outputs": [
    {
     "data": {
      "text/plain": [
       "(784,)"
      ]
     },
     "execution_count": 44,
     "metadata": {},
     "output_type": "execute_result"
    }
   ],
   "source": [
    "X_train[:,0].shape"
   ]
  },
  {
   "cell_type": "code",
   "execution_count": 45,
   "id": "825c0746",
   "metadata": {},
   "outputs": [],
   "source": [
    "def init_params():\n",
    "    W1 = np.random.rand(10, 784) - 0.5\n",
    "    b1 = np.random.rand(10, 1) - 0.5\n",
    "    W2 = np.random.rand(10, 10) - 0.5\n",
    "    b2 = np.random.rand(10, 1) - 0.5\n",
    "    return W1, b1, W2, b2\n",
    "\n",
    "def ReLU(Z):\n",
    "    return np.maximum(Z, 0)\n",
    "\n",
    "def softmax(Z):\n",
    "    A = np.exp(Z) / sum(np.exp(Z))\n",
    "    return A\n",
    "    \n",
    "def forward_prop(W1, b1, W2, b2, X):\n",
    "    Z1 = W1.dot(X) + b1\n",
    "    A1 = ReLU(Z1)\n",
    "    Z2 = W2.dot(A1) + b2\n",
    "    A2 = softmax(Z2)\n",
    "    return Z1, A1, Z2, A2\n",
    "\n",
    "def ReLU_deriv(Z):\n",
    "    return Z > 0\n",
    "\n",
    "def one_hot(Y):\n",
    "    one_hot_Y = np.zeros((Y.size, Y.max() + 1))\n",
    "    one_hot_Y[np.arange(Y.size), Y] = 1\n",
    "    one_hot_Y = one_hot_Y.T\n",
    "    return one_hot_Y\n",
    "\n",
    "def backward_prop(Z1, A1, Z2, A2, W1, W2, X, Y):\n",
    "    one_hot_Y = one_hot(Y)\n",
    "    dZ2 = A2 - one_hot_Y\n",
    "    dW2 = 1 / m * dZ2.dot(A1.T)\n",
    "    db2 = 1 / m * np.sum(dZ2)\n",
    "    dZ1 = W2.T.dot(dZ2) * ReLU_deriv(Z1)\n",
    "    dW1 = 1 / m * dZ1.dot(X.T)\n",
    "    db1 = 1 / m * np.sum(dZ1)\n",
    "    return dW1, db1, dW2, db2\n",
    "\n",
    "def update_params(W1, b1, W2, b2, dW1, db1, dW2, db2, alpha):\n",
    "    W1 = W1 - alpha * dW1\n",
    "    b1 = b1 - alpha * db1    \n",
    "    W2 = W2 - alpha * dW2  \n",
    "    b2 = b2 - alpha * db2    \n",
    "    return W1, b1, W2, b2"
   ]
  },
  {
   "cell_type": "code",
   "execution_count": 48,
   "id": "b228d818",
   "metadata": {},
   "outputs": [],
   "source": [
    "\n",
    "def get_predictions(A2):\n",
    "    return np.argmax(A2, 0)\n",
    "\n",
    "def get_accuracy(predictions, Y):\n",
    "    print(predictions, Y)\n",
    "    return np.sum(predictions == Y) / Y.size\n",
    "\n",
    "def gradient_descent(X, Y, alpha, iterations):\n",
    "    W1, b1, W2, b2 = init_params()\n",
    "    for i in range(iterations):\n",
    "        Z1, A1, Z2, A2 = forward_prop(W1, b1, W2, b2, X)\n",
    "        dW1, db1, dW2, db2 = backward_prop(Z1, A1, Z2, A2, W1, W2, X, Y)\n",
    "        W1, b1, W2, b2 = update_params(W1, b1, W2, b2, dW1, db1, dW2, db2, alpha)\n",
    "        if i % 10 == 0:\n",
    "            print(\"Iteration: \", i)\n",
    "            predictions = get_predictions(A2)\n",
    "            print(get_accuracy(predictions, Y))\n",
    "    return W1, b1, W2, b2\n"
   ]
  },
  {
   "cell_type": "code",
   "execution_count": 49,
   "id": "78980883",
   "metadata": {},
   "outputs": [
    {
     "name": "stdout",
     "output_type": "stream",
     "text": [
      "Iteration:  0\n",
      "[1 1 1 ... 9 1 1] [8 9 1 ... 5 2 4]\n",
      "0.05731707317073171\n",
      "Iteration:  10\n",
      "[6 2 2 ... 9 7 2] [8 9 1 ... 5 2 4]\n",
      "0.15578048780487805\n",
      "Iteration:  20\n",
      "[6 2 7 ... 9 7 2] [8 9 1 ... 5 2 4]\n",
      "0.2113170731707317\n",
      "Iteration:  30\n",
      "[6 9 7 ... 9 7 2] [8 9 1 ... 5 2 4]\n",
      "0.27695121951219515\n",
      "Iteration:  40\n",
      "[6 9 1 ... 9 7 2] [8 9 1 ... 5 2 4]\n",
      "0.34231707317073173\n",
      "Iteration:  50\n",
      "[6 9 1 ... 9 1 9] [8 9 1 ... 5 2 4]\n",
      "0.3913170731707317\n",
      "Iteration:  60\n",
      "[6 9 1 ... 9 1 9] [8 9 1 ... 5 2 4]\n",
      "0.43334146341463414\n",
      "Iteration:  70\n",
      "[6 9 1 ... 3 1 9] [8 9 1 ... 5 2 4]\n",
      "0.46551219512195124\n",
      "Iteration:  80\n",
      "[6 9 1 ... 3 1 9] [8 9 1 ... 5 2 4]\n",
      "0.4956829268292683\n",
      "Iteration:  90\n",
      "[6 9 1 ... 3 1 9] [8 9 1 ... 5 2 4]\n",
      "0.5262682926829269\n",
      "Iteration:  100\n",
      "[6 9 1 ... 3 1 9] [8 9 1 ... 5 2 4]\n",
      "0.5596341463414635\n",
      "Iteration:  110\n",
      "[6 9 1 ... 3 1 9] [8 9 1 ... 5 2 4]\n",
      "0.5932195121951219\n",
      "Iteration:  120\n",
      "[6 9 1 ... 3 2 9] [8 9 1 ... 5 2 4]\n",
      "0.6260731707317073\n",
      "Iteration:  130\n",
      "[6 9 1 ... 3 2 9] [8 9 1 ... 5 2 4]\n",
      "0.6523658536585366\n",
      "Iteration:  140\n",
      "[6 9 1 ... 3 2 9] [8 9 1 ... 5 2 4]\n",
      "0.6721463414634147\n",
      "Iteration:  150\n",
      "[6 9 1 ... 3 2 9] [8 9 1 ... 5 2 4]\n",
      "0.689560975609756\n",
      "Iteration:  160\n",
      "[2 9 1 ... 3 2 9] [8 9 1 ... 5 2 4]\n",
      "0.704390243902439\n",
      "Iteration:  170\n",
      "[2 9 1 ... 3 2 9] [8 9 1 ... 5 2 4]\n",
      "0.7169756097560975\n",
      "Iteration:  180\n",
      "[2 9 1 ... 3 2 9] [8 9 1 ... 5 2 4]\n",
      "0.7278536585365853\n",
      "Iteration:  190\n",
      "[2 9 1 ... 3 2 9] [8 9 1 ... 5 2 4]\n",
      "0.7366585365853658\n",
      "Iteration:  200\n",
      "[2 9 1 ... 3 2 9] [8 9 1 ... 5 2 4]\n",
      "0.7450243902439024\n",
      "Iteration:  210\n",
      "[2 9 1 ... 3 2 9] [8 9 1 ... 5 2 4]\n",
      "0.7519756097560976\n",
      "Iteration:  220\n",
      "[2 9 1 ... 3 2 4] [8 9 1 ... 5 2 4]\n",
      "0.7587804878048781\n",
      "Iteration:  230\n",
      "[2 9 1 ... 3 2 4] [8 9 1 ... 5 2 4]\n",
      "0.7649512195121951\n",
      "Iteration:  240\n",
      "[2 9 1 ... 3 2 4] [8 9 1 ... 5 2 4]\n",
      "0.7709268292682927\n",
      "Iteration:  250\n",
      "[2 9 1 ... 3 2 4] [8 9 1 ... 5 2 4]\n",
      "0.7770487804878049\n",
      "Iteration:  260\n",
      "[2 9 1 ... 3 2 4] [8 9 1 ... 5 2 4]\n",
      "0.7813658536585366\n",
      "Iteration:  270\n",
      "[2 9 1 ... 3 2 4] [8 9 1 ... 5 2 4]\n",
      "0.7855121951219513\n",
      "Iteration:  280\n",
      "[2 9 1 ... 5 2 4] [8 9 1 ... 5 2 4]\n",
      "0.79\n",
      "Iteration:  290\n",
      "[2 9 1 ... 5 2 4] [8 9 1 ... 5 2 4]\n",
      "0.7944390243902439\n",
      "Iteration:  300\n",
      "[2 9 1 ... 5 2 4] [8 9 1 ... 5 2 4]\n",
      "0.7984634146341464\n",
      "Iteration:  310\n",
      "[2 9 1 ... 5 2 4] [8 9 1 ... 5 2 4]\n",
      "0.8022682926829269\n",
      "Iteration:  320\n",
      "[2 9 1 ... 5 2 4] [8 9 1 ... 5 2 4]\n",
      "0.805439024390244\n",
      "Iteration:  330\n",
      "[2 9 1 ... 5 2 4] [8 9 1 ... 5 2 4]\n",
      "0.8082439024390244\n",
      "Iteration:  340\n",
      "[2 9 1 ... 5 2 4] [8 9 1 ... 5 2 4]\n",
      "0.8110975609756098\n",
      "Iteration:  350\n",
      "[2 9 1 ... 5 2 4] [8 9 1 ... 5 2 4]\n",
      "0.8139268292682926\n",
      "Iteration:  360\n",
      "[2 9 1 ... 5 2 4] [8 9 1 ... 5 2 4]\n",
      "0.8165365853658536\n",
      "Iteration:  370\n",
      "[2 9 1 ... 5 2 4] [8 9 1 ... 5 2 4]\n",
      "0.8185365853658536\n",
      "Iteration:  380\n",
      "[2 9 1 ... 5 2 4] [8 9 1 ... 5 2 4]\n",
      "0.8201951219512195\n",
      "Iteration:  390\n",
      "[2 9 1 ... 5 2 4] [8 9 1 ... 5 2 4]\n",
      "0.8220975609756097\n",
      "Iteration:  400\n",
      "[2 9 1 ... 5 2 4] [8 9 1 ... 5 2 4]\n",
      "0.8240731707317073\n",
      "Iteration:  410\n",
      "[2 9 1 ... 5 2 4] [8 9 1 ... 5 2 4]\n",
      "0.826390243902439\n",
      "Iteration:  420\n",
      "[2 9 1 ... 5 2 4] [8 9 1 ... 5 2 4]\n",
      "0.8282439024390243\n",
      "Iteration:  430\n",
      "[2 9 1 ... 5 2 4] [8 9 1 ... 5 2 4]\n",
      "0.8296585365853658\n",
      "Iteration:  440\n",
      "[2 9 1 ... 5 2 4] [8 9 1 ... 5 2 4]\n",
      "0.8313658536585365\n",
      "Iteration:  450\n",
      "[2 9 1 ... 5 2 4] [8 9 1 ... 5 2 4]\n",
      "0.8330243902439024\n",
      "Iteration:  460\n",
      "[2 9 1 ... 5 2 4] [8 9 1 ... 5 2 4]\n",
      "0.8348048780487805\n",
      "Iteration:  470\n",
      "[2 9 1 ... 5 2 4] [8 9 1 ... 5 2 4]\n",
      "0.8360487804878048\n",
      "Iteration:  480\n",
      "[8 9 1 ... 5 2 4] [8 9 1 ... 5 2 4]\n",
      "0.8373658536585366\n",
      "Iteration:  490\n",
      "[8 9 1 ... 5 2 4] [8 9 1 ... 5 2 4]\n",
      "0.838780487804878\n"
     ]
    }
   ],
   "source": [
    "W1, b1, W2, b2 = gradient_descent(X_train, Y_train, 0.10, 500)"
   ]
  },
  {
   "cell_type": "code",
   "execution_count": 50,
   "id": "a42d65c7",
   "metadata": {},
   "outputs": [],
   "source": [
    "def make_predictions(X, W1, b1, W2, b2):\n",
    "    _, _, _, A2 = forward_prop(W1, b1, W2, b2, X)\n",
    "    predictions = get_predictions(A2)\n",
    "    return predictions\n",
    "\n",
    "def test_prediction(index, W1, b1, W2, b2):\n",
    "    current_image = X_train[:, index, None]\n",
    "    prediction = make_predictions(X_train[:, index, None], W1, b1, W2, b2)\n",
    "    label = Y_train[index]\n",
    "    print(\"Prediction: \", prediction)\n",
    "    print(\"Label: \", label)\n",
    "    \n",
    "    current_image = current_image.reshape((28, 28)) * 255\n",
    "    plt.gray()\n",
    "    plt.imshow(current_image, interpolation='nearest')\n",
    "    plt.show()"
   ]
  },
  {
   "cell_type": "code",
   "execution_count": 51,
   "id": "94272868",
   "metadata": {},
   "outputs": [
    {
     "name": "stdout",
     "output_type": "stream",
     "text": [
      "Prediction:  [8]\n",
      "Label:  8\n"
     ]
    },
    {
     "data": {
      "image/png": "[encoded data removed]",
      "text/plain": [
       "<Figure size 640x480 with 1 Axes>"
      ]
     },
     "metadata": {},
     "output_type": "display_data"
    },
    {
     "name": "stdout",
     "output_type": "stream",
     "text": [
      "Prediction:  [9]\n",
      "Label:  9\n"
     ]
    },
    {
     "data": {
      "image/png": "[encoded data removed]",
      "text/plain": [
       "<Figure size 640x480 with 1 Axes>"
      ]
     },
     "metadata": {},
     "output_type": "display_data"
    },
    {
     "name": "stdout",
     "output_type": "stream",
     "text": [
      "Prediction:  [1]\n",
      "Label:  1\n"
     ]
    },
    {
     "data": {
      "image/png": "[encoded data removed]",
      "text/plain": [
       "<Figure size 640x480 with 1 Axes>"
      ]
     },
     "metadata": {},
     "output_type": "display_data"
    },
    {
     "name": "stdout",
     "output_type": "stream",
     "text": [
      "Prediction:  [0]\n",
      "Label:  0\n"
     ]
    },
    {
     "data": {
      "image/png": "[encoded data removed]",
      "text/plain": [
       "<Figure size 640x480 with 1 Axes>"
      ]
     },
     "metadata": {},
     "output_type": "display_data"
    }
   ],
   "source": [
    "test_prediction(0, W1, b1, W2, b2)\n",
    "test_prediction(1, W1, b1, W2, b2)\n",
    "test_prediction(2, W1, b1, W2, b2)\n",
    "test_prediction(3, W1, b1, W2, b2)"
   ]
  }
 ],
 "metadata": {
  "kernelspec": {
   "display_name": "base",
   "language": "python",
   "name": "python3"
  },
  "language_info": {
   "codemirror_mode": {
    "name": "ipython",
    "version": 3
   },
   "file_extension": ".py",
   "mimetype": "text/x-python",
   "name": "python",
   "nbconvert_exporter": "python",
   "pygments_lexer": "ipython3",
   "version": "3.11.5"
  }
 },
 "nbformat": 4,
 "nbformat_minor": 5
}
